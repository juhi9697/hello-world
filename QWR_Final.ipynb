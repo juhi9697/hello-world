{
  "nbformat": 4,
  "nbformat_minor": 0,
  "metadata": {
    "colab": {
      "name": "QWR_Final.ipynb",
      "provenance": [],
      "collapsed_sections": [],
      "authorship_tag": "ABX9TyMAoaQSHovNxExlMQNgNVQO",
      "include_colab_link": true
    },
    "kernelspec": {
      "name": "python3",
      "display_name": "Python 3"
    }
  },
  "cells": [
    {
      "cell_type": "markdown",
      "metadata": {
        "id": "view-in-github",
        "colab_type": "text"
      },
      "source": [
        "<a href=\"https://colab.research.google.com/github/juhi9697/hello-world/blob/QRW/QWR_Final.ipynb\" target=\"_parent\"><img src=\"https://colab.research.google.com/assets/colab-badge.svg\" alt=\"Open In Colab\"/></a>"
      ]
    },
    {
      "cell_type": "code",
      "metadata": {
        "id": "n9NNe9zzfhuE",
        "outputId": "47d08c97-e169-4474-aa25-6bd9caa5cf73",
        "colab": {
          "base_uri": "https://localhost:8080/",
          "height": 169
        }
      },
      "source": [
        "#!pip install qiskit\n",
        "from qiskit import QuantumCircuit, QuantumRegister, ClassicalRegister\n",
        "from qiskit import Aer, execute, dagcircuit \n",
        "import numpy as np\n",
        "\n",
        "from qiskit.visualization import plot_histogram\n",
        "from qiskit import QuantumCircuit, QuantumRegister, ClassicalRegister\n",
        "\"\"\"\n",
        "we need to input how many steps the quantum system will take in total similar to CRW\n",
        "if no of qubits is n then then the graph will have 2^(n-1) nodes or points to shift. here the first qubit will play the role of coin as in CRW.\n",
        "\"\"\"\n",
        "n_steps = 1 #Number of iterations\n",
        "qubits= QuantumRegister(4, name = 'qubits')\n",
        "cbits= ClassicalRegister(4, name= 'cbits')\n",
        "\n",
        "#increment gate\n",
        "print(len(qubits))\n",
        "inc = QuantumCircuit (qubits,name='inc') #Circuit for inc operator\n",
        "inc.rcccx( qubits[0],qubits[1],qubits[2],qubits[3])\n",
        "inc.ccx(qubits[0],qubits[1],qubits[2])\n",
        "inc.cx(qubits[0],qubits[1])\n",
        "inc.draw()\n",
        "\n",
        "\n",
        "\n",
        "\n",
        "\n",
        "\n",
        "\n",
        "\n",
        "\n",
        "\n",
        "\n",
        "\n",
        "\n"
      ],
      "execution_count": null,
      "outputs": [
        {
          "output_type": "stream",
          "text": [
            "4\n"
          ],
          "name": "stdout"
        },
        {
          "output_type": "execute_result",
          "data": {
            "text/html": [
              "<pre style=\"word-wrap: normal;white-space: pre;background: #fff0;line-height: 1.1;font-family: &quot;Courier New&quot;,Courier,monospace\">          ┌────────┐          \n",
              "qubits_0: ┤0       ├──■────■──\n",
              "          │        │  │  ┌─┴─┐\n",
              "qubits_1: ┤1       ├──■──┤ X ├\n",
              "          │  RCCCX │┌─┴─┐└───┘\n",
              "qubits_2: ┤2       ├┤ X ├─────\n",
              "          │        │└───┘     \n",
              "qubits_3: ┤3       ├──────────\n",
              "          └────────┘          </pre>"
            ],
            "text/plain": [
              "          ┌────────┐          \n",
              "qubits_0: ┤0       ├──■────■──\n",
              "          │        │  │  ┌─┴─┐\n",
              "qubits_1: ┤1       ├──■──┤ X ├\n",
              "          │  RCCCX │┌─┴─┐└───┘\n",
              "qubits_2: ┤2       ├┤ X ├─────\n",
              "          │        │└───┘     \n",
              "qubits_3: ┤3       ├──────────\n",
              "          └────────┘          "
            ]
          },
          "metadata": {
            "tags": []
          },
          "execution_count": 32
        }
      ]
    },
    {
      "cell_type": "code",
      "metadata": {
        "id": "1zxsqP6KkTyF",
        "outputId": "e1e449de-5f0b-450c-ffc8-2df5246a0d77",
        "colab": {
          "base_uri": "https://localhost:8080/",
          "height": 152
        }
      },
      "source": [
        "inc= inc.to_instruction()\n",
        "#decrement gate\n",
        "dec= QuantumCircuit (qubits,name='dec') #Circuit for dec operator\n",
        "dec.x(qubits[0])\n",
        "dec.x(qubits[1])\n",
        "dec.x(qubits[2])\n",
        "dec.rcccx( qubits[0],qubits[1],qubits[2],qubits[3])\n",
        "dec.x(qubits[2])\n",
        "dec.ccx(qubits[0],qubits[1],qubits[2])\n",
        "dec.x(qubits[1])\n",
        "dec.cx(qubits[0],qubits[1])\n",
        "dec.x(qubits[0])\n",
        "dec.draw()\n",
        "\n",
        "\n"
      ],
      "execution_count": null,
      "outputs": [
        {
          "output_type": "execute_result",
          "data": {
            "text/html": [
              "<pre style=\"word-wrap: normal;white-space: pre;background: #fff0;line-height: 1.1;font-family: &quot;Courier New&quot;,Courier,monospace\">          ┌───┐┌────────┐                    ┌───┐\n",
              "qubits_0: ┤ X ├┤0       ├───────■─────────■──┤ X ├\n",
              "          ├───┤│        │       │  ┌───┐┌─┴─┐└───┘\n",
              "qubits_1: ┤ X ├┤1       ├───────■──┤ X ├┤ X ├─────\n",
              "          ├───┤│  RCCCX │┌───┐┌─┴─┐└───┘└───┘     \n",
              "qubits_2: ┤ X ├┤2       ├┤ X ├┤ X ├───────────────\n",
              "          └───┘│        │└───┘└───┘               \n",
              "qubits_3: ─────┤3       ├─────────────────────────\n",
              "               └────────┘                         </pre>"
            ],
            "text/plain": [
              "          ┌───┐┌────────┐                    ┌───┐\n",
              "qubits_0: ┤ X ├┤0       ├───────■─────────■──┤ X ├\n",
              "          ├───┤│        │       │  ┌───┐┌─┴─┐└───┘\n",
              "qubits_1: ┤ X ├┤1       ├───────■──┤ X ├┤ X ├─────\n",
              "          ├───┤│  RCCCX │┌───┐┌─┴─┐└───┘└───┘     \n",
              "qubits_2: ┤ X ├┤2       ├┤ X ├┤ X ├───────────────\n",
              "          └───┘│        │└───┘└───┘               \n",
              "qubits_3: ─────┤3       ├─────────────────────────\n",
              "               └────────┘                         "
            ]
          },
          "metadata": {
            "tags": []
          },
          "execution_count": 33
        }
      ]
    },
    {
      "cell_type": "code",
      "metadata": {
        "id": "E-nf7YpUkd0_",
        "outputId": "d0202322-0db0-4241-8300-93fb98994916",
        "colab": {
          "base_uri": "https://localhost:8080/",
          "height": 182
        }
      },
      "source": [
        "dec= dec.to_instruction()\n",
        "#Main Circuit\n",
        "\n",
        "circ = QuantumCircuit (qubits, cbits) #Main circuit\n",
        "#Fixing the coin spin either 0 or 1\n",
        "#circ.x(qubits[0])\n",
        "\n",
        "for i in range(n_steps):\n",
        " \n",
        " circ.h (qubits[0]) #Coin step\n",
        " circ.append (inc, [qubits[0],qubits[1],qubits[2],qubits[3]]) #Shift step\n",
        " circ.append (dec, [qubits[0],qubits[1],qubits[2],qubits[3]]) #Shift step\n",
        "\n",
        "circ.measure ([qubits[0],qubits[1],qubits[2],qubits[3]], [cbits[0],cbits[1],cbits[2],cbits[3]])\n",
        "\n",
        "# Draw the circuit\n",
        "circ.draw()\n"
      ],
      "execution_count": null,
      "outputs": [
        {
          "output_type": "execute_result",
          "data": {
            "text/html": [
              "<pre style=\"word-wrap: normal;white-space: pre;background: #fff0;line-height: 1.1;font-family: &quot;Courier New&quot;,Courier,monospace\">          ┌───┐┌──────┐┌──────┐┌─┐         \n",
              "qubits_0: ┤ H ├┤0     ├┤0     ├┤M├─────────\n",
              "          └───┘│      ││      │└╥┘┌─┐      \n",
              "qubits_1: ─────┤1     ├┤1     ├─╫─┤M├──────\n",
              "               │  inc ││  dec │ ║ └╥┘┌─┐   \n",
              "qubits_2: ─────┤2     ├┤2     ├─╫──╫─┤M├───\n",
              "               │      ││      │ ║  ║ └╥┘┌─┐\n",
              "qubits_3: ─────┤3     ├┤3     ├─╫──╫──╫─┤M├\n",
              "               └──────┘└──────┘ ║  ║  ║ └╥┘\n",
              " cbits: 4/══════════════════════╩══╩══╩══╩═\n",
              "                                0  1  2  3 </pre>"
            ],
            "text/plain": [
              "          ┌───┐┌──────┐┌──────┐┌─┐         \n",
              "qubits_0: ┤ H ├┤0     ├┤0     ├┤M├─────────\n",
              "          └───┘│      ││      │└╥┘┌─┐      \n",
              "qubits_1: ─────┤1     ├┤1     ├─╫─┤M├──────\n",
              "               │  inc ││  dec │ ║ └╥┘┌─┐   \n",
              "qubits_2: ─────┤2     ├┤2     ├─╫──╫─┤M├───\n",
              "               │      ││      │ ║  ║ └╥┘┌─┐\n",
              "qubits_3: ─────┤3     ├┤3     ├─╫──╫──╫─┤M├\n",
              "               └──────┘└──────┘ ║  ║  ║ └╥┘\n",
              " cbits: 4/══════════════════════╩══╩══╩══╩═\n",
              "                                0  1  2  3 "
            ]
          },
          "metadata": {
            "tags": []
          },
          "execution_count": 34
        }
      ]
    },
    {
      "cell_type": "code",
      "metadata": {
        "id": "VAlB2iVffAs8",
        "outputId": "b2451761-ddc4-4fd2-e425-5eacd3f3a28d",
        "colab": {
          "base_uri": "https://localhost:8080/",
          "height": 384
        }
      },
      "source": [
        "simulator = Aer.get_backend('qasm_simulator')\n",
        "job = execute(circ, simulator, shots=1000)\n",
        "result = job.result()\n",
        "counts = result.get_counts(circ)\n",
        "print(\"\\nTotal counts are:\",counts)\n",
        "# Plot a histogram\n",
        "plot_histogram(counts)\n"
      ],
      "execution_count": null,
      "outputs": [
        {
          "output_type": "stream",
          "text": [
            "\n",
            "Total counts are: {'0011': 494, '1110': 506}\n"
          ],
          "name": "stdout"
        },
        {
          "output_type": "execute_result",
          "data": {
            "image/png": "[encoded data removed]",
            "text/plain": [
              "<Figure size 504x360 with 1 Axes>"
            ]
          },
          "metadata": {
            "tags": []
          },
          "execution_count": 35
        }
      ]
    }
  ]
}